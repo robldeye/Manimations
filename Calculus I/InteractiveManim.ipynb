{
 "cells": [
  {
   "cell_type": "markdown",
   "id": "f8bf033f",
   "metadata": {},
   "source": [
    "This is a Jupyter Notebook showcasing interactive Manimations. This first example is a visualization of a definite integral. You will select the following desired parameters, and then generate the manimation! which will render the Manimation."
   ]
  },
  {
   "cell_type": "code",
   "execution_count": 1,
   "id": "822b80a4",
   "metadata": {},
   "outputs": [
    {
     "data": {
      "text/latex": [
       "$\\displaystyle f(x) = \\sin{\\left(x \\right)}$"
      ],
      "text/plain": [
       "<IPython.core.display.Math object>"
      ]
     },
     "metadata": {},
     "output_type": "display_data"
    }
   ],
   "source": [
    "from sympy import symbols, latex, sin\n",
    "from IPython.display import display, Math\n",
    "\n",
    "x = symbols('x')\n",
    "f = sin(x)\n",
    "display(Math(f\"f(x) = {latex(f)}\"))"
   ]
  },
  {
   "cell_type": "markdown",
   "id": "6eb5ec7f",
   "metadata": {},
   "source": [
    "Next, run the following block and use the slider to change that value of the upper bound of integration."
   ]
  },
  {
   "cell_type": "code",
   "execution_count": null,
   "id": "8f1b954a",
   "metadata": {},
   "outputs": [
    {
     "data": {
      "application/vnd.jupyter.widget-view+json": {
       "model_id": "cf74638f2d0b4adeb88609639b2442f7",
       "version_major": 2,
       "version_minor": 0
      },
      "text/plain": [
       "interactive(children=(FloatSlider(value=3.0, description='a =', layout=Layout(width='500px'), max=5.0), Output…"
      ]
     },
     "metadata": {},
     "output_type": "display_data"
    }
   ],
   "source": [
    "from sympy import integrate, init_printing\n",
    "from ipywidgets import interact, FloatSlider\n",
    "from IPython.display import display, Math\n",
    "\n",
    "# Enable pretty printing\n",
    "init_printing()\n",
    "\n",
    "a_slider = FloatSlider(\n",
    "    min=0, max=5, step = 0.1, value = 3,\n",
    "    description='a =',\n",
    "    layout={'width': '500px'}\n",
    ")\n",
    "\n",
    "# Interactive slider for upper bound a\n",
    "@interact(a=a_slider)\n",
    "def evaluate_integral(a):\n",
    "    result = integrate(f, (x, 0, a)).evalf()\n",
    "    display(Math(rf\"\\int_0^{{{a:.1f}}} {latex(f)} \\, dx = {result:.2f}\"))\n",
    "\n"
   ]
  },
  {
   "cell_type": "markdown",
   "id": "0b2bcec0",
   "metadata": {},
   "source": [
    "Next is the block that will render a brief Manimation of the above integral."
   ]
  },
  {
   "cell_type": "code",
   "execution_count": 3,
   "id": "feec71e6",
   "metadata": {},
   "outputs": [
    {
     "name": "stderr",
     "output_type": "stream",
     "text": [
      "UsageError: Cell magic `%%manim` not found.\n"
     ]
    }
   ],
   "source": [
    "%%manim -qm -v WARNING SquareToCircle\n",
    "\n",
    "class SquareToCircle(Scene):\n",
    "   def construct(self):\n",
    "      square = Square()\n",
    "      circle = Circle()\n",
    "      circle.set_fill(PINK, opacity=0.5)\n",
    "      self.play(Create(square))\n",
    "      self.play(Transform(square, circle))\n",
    "      self.wait()"
   ]
  }
 ],
 "metadata": {
  "kernelspec": {
   "display_name": "myenv",
   "language": "python",
   "name": "python3"
  },
  "language_info": {
   "codemirror_mode": {
    "name": "ipython",
    "version": 3
   },
   "file_extension": ".py",
   "mimetype": "text/x-python",
   "name": "python",
   "nbconvert_exporter": "python",
   "pygments_lexer": "ipython3",
   "version": "3.12.8"
  }
 },
 "nbformat": 4,
 "nbformat_minor": 5
}
